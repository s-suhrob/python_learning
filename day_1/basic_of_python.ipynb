{
 "cells": [
  {
   "cell_type": "markdown",
   "id": "e3c7bb4e",
   "metadata": {},
   "source": [
    "## Основы Python\n",
    "\n",
    "Привет! Мы начинаем знакомство с языком Python. На первых порах для простоты мы будем писать все Python-программы в сред Jupyter. В ней уже все настроено и доступно."
   ]
  },
  {
   "cell_type": "markdown",
   "id": "c6126ab0",
   "metadata": {},
   "source": [
    "Ячейка созадется нажанием + выше в панельке. Попробуй содать новую ячейку, кликнуть на ее, написать в ней:\n",
    "\n",
    "    | 1 + 5\n",
    "и \"выполнить\" ее нажатием Ctrl + Enter.\n",
    "\n",
    "Знакомство с Python начнем с базовых конструкций языка."
   ]
  },
  {
   "cell_type": "code",
   "execution_count": null,
   "id": "aa1ab859",
   "metadata": {},
   "outputs": [],
   "source": []
  },
  {
   "cell_type": "markdown",
   "id": "9fc1d5b8",
   "metadata": {},
   "source": [
    "## Базовые операции\n",
    "\n",
    "Посмотрим на основаные операции, которые используются любым программистом на Python"
   ]
  },
  {
   "cell_type": "code",
   "execution_count": 2,
   "id": "48e8ea91",
   "metadata": {},
   "outputs": [],
   "source": [
    "# Это комментарий. Python игнорирует все, что написано после символа # до конца строки\n",
    "# А редактор это подсвечивает серым или зеленым\n",
    "\n",
    "# Пустые строки тоже игнорируются и никакого смысла не несут\n",
    "\n",
    "# Знак = (равно) - это присваивание. Мы сейчас попросим записать в переменную \"a\" значение 5\n",
    "# Переменная - это область памяти куда комп кладет значнеие. Можно с ними проводить манипуляции\n",
    "a = 5"
   ]
  },
  {
   "cell_type": "code",
   "execution_count": 3,
   "id": "3818e378",
   "metadata": {},
   "outputs": [
    {
     "data": {
      "text/plain": [
       "5"
      ]
     },
     "execution_count": 3,
     "metadata": {},
     "output_type": "execute_result"
    }
   ],
   "source": [
    "a"
   ]
  },
  {
   "cell_type": "code",
   "execution_count": 4,
   "id": "c465828c",
   "metadata": {},
   "outputs": [
    {
     "data": {
      "text/plain": [
       "55"
      ]
     },
     "execution_count": 4,
     "metadata": {},
     "output_type": "execute_result"
    }
   ],
   "source": [
    "#  Арифметические операции можно делать как с числами\n",
    "5 * 11"
   ]
  },
  {
   "cell_type": "code",
   "execution_count": 5,
   "id": "e1610f3e",
   "metadata": {},
   "outputs": [
    {
     "data": {
      "text/plain": [
       "55"
      ]
     },
     "execution_count": 5,
     "metadata": {},
     "output_type": "execute_result"
    }
   ],
   "source": [
    "# Так и с участием переменных\n",
    "11 * a"
   ]
  },
  {
   "cell_type": "code",
   "execution_count": 6,
   "id": "bfde4bc0",
   "metadata": {},
   "outputs": [
    {
     "name": "stdout",
     "output_type": "stream",
     "text": [
      "5\n"
     ]
    }
   ],
   "source": [
    "# Как в математике Python есть функции которые на вход получают значение и делает что то и возвращает\n",
    "print(a)"
   ]
  },
  {
   "cell_type": "code",
   "execution_count": 7,
   "id": "cdf10d6b",
   "metadata": {},
   "outputs": [
    {
     "name": "stdout",
     "output_type": "stream",
     "text": [
      "4 1 hello 5\n"
     ]
    }
   ],
   "source": [
    "# print может принимать любое кол-во агрументов (делятся через запятую)\n",
    "print(4, 1, 'hello', a)"
   ]
  },
  {
   "cell_type": "code",
   "execution_count": 8,
   "id": "81b365b1",
   "metadata": {},
   "outputs": [
    {
     "data": {
      "text/plain": [
       "2"
      ]
     },
     "execution_count": 8,
     "metadata": {},
     "output_type": "execute_result"
    }
   ],
   "source": [
    "# Можео делить нацело, отбрасивая дробную часть\n",
    "5 // 2"
   ]
  },
  {
   "cell_type": "code",
   "execution_count": 9,
   "id": "c5680887",
   "metadata": {},
   "outputs": [
    {
     "data": {
      "text/plain": [
       "2"
      ]
     },
     "execution_count": 9,
     "metadata": {},
     "output_type": "execute_result"
    }
   ],
   "source": [
    "6 // 3"
   ]
  },
  {
   "cell_type": "code",
   "execution_count": 10,
   "id": "b91d7dc6",
   "metadata": {},
   "outputs": [
    {
     "data": {
      "text/plain": [
       "1"
      ]
     },
     "execution_count": 10,
     "metadata": {},
     "output_type": "execute_result"
    }
   ],
   "source": [
    "# Остаток от деления берется через %\n",
    "5 % 2"
   ]
  },
  {
   "cell_type": "code",
   "execution_count": null,
   "id": "86f65254",
   "metadata": {},
   "outputs": [
    {
     "name": "stdout",
     "output_type": "stream",
     "text": [
      "5.0\n",
      "2.0\n"
     ]
    }
   ],
   "source": [
    "# Переменные может менять свое значение по ходу выполнения программы\n",
    "\n",
    "a = 10\n",
    "print(a / 2)\n",
    "\n",
    "a = 4\n",
    "print(a / 2)"
   ]
  },
  {
   "cell_type": "markdown",
   "id": "648b822e",
   "metadata": {},
   "source": [
    "В Python ожидает, что каждая команда пишется с новой сторой"
   ]
  },
  {
   "cell_type": "markdown",
   "id": "b5cf6cb1",
   "metadata": {},
   "source": [
    "### Зачем нужны переменные?\n",
    "\n",
    "У переменных два преимущества:\n",
    "\n",
    "1. Делают логику независимой от чисел\n",
    "2. Делают преобразования данных читаемыми\n",
    "\n",
    "Пример. Хотим подсчитать доход через 5 лет от банковскому вкладу в разных банках. У нас есть 100 руб и 2 банка с разными процентами:\n",
    "\n",
    "1. Банк А дает 3% годовых\n",
    "2. Банк Б дает 2% годовых, но более надежен\n",
    "\n",
    "Посчитаем сколько будет денег через 5 лет:"
   ]
  },
  {
   "cell_type": "code",
   "execution_count": 13,
   "id": "9e001b28",
   "metadata": {},
   "outputs": [
    {
     "data": {
      "text/plain": [
       "115.92740743"
      ]
     },
     "execution_count": 13,
     "metadata": {},
     "output_type": "execute_result"
    }
   ],
   "source": [
    "# Две звездочки - это оператор возведения в степень\n",
    "# Скобки указывают порядок операции\n",
    "\n",
    "100 * ((100 + 3) / 100)**5"
   ]
  },
  {
   "cell_type": "code",
   "execution_count": 14,
   "id": "4b6958b7",
   "metadata": {},
   "outputs": [
    {
     "data": {
      "text/plain": [
       "110.40808032"
      ]
     },
     "execution_count": 14,
     "metadata": {},
     "output_type": "execute_result"
    }
   ],
   "source": [
    "# Пробелы между операторами тоже игнорируются\n",
    "100 * ((100 + 2) / 100)**5"
   ]
  },
  {
   "cell_type": "markdown",
   "id": "7854267f",
   "metadata": {},
   "source": [
    "Сходу глядя на код, не очень ясно, что означает первое число 100 и второе. Нужно знать исходную задачу. Давайте перепишем с использованием переменных."
   ]
  },
  {
   "cell_type": "code",
   "execution_count": 15,
   "id": "4033554d",
   "metadata": {},
   "outputs": [
    {
     "data": {
      "text/plain": [
       "115.92740743"
      ]
     },
     "execution_count": 15,
     "metadata": {},
     "output_type": "execute_result"
    }
   ],
   "source": [
    "initial_sum = 100\n",
    "interest_rate = 3\n",
    "years = 5\n",
    "\n",
    "# Теперь из кода сразу ясно, как считается сумма в конце для любых входных данных\n",
    "\n",
    "end_sum = initial_sum * ((100 + interest_rate) / 100)**years\n",
    "end_sum"
   ]
  }
 ],
 "metadata": {
  "kernelspec": {
   "display_name": "base",
   "language": "python",
   "name": "python3"
  },
  "language_info": {
   "codemirror_mode": {
    "name": "ipython",
    "version": 3
   },
   "file_extension": ".py",
   "mimetype": "text/x-python",
   "name": "python",
   "nbconvert_exporter": "python",
   "pygments_lexer": "ipython3",
   "version": "3.13.5"
  }
 },
 "nbformat": 4,
 "nbformat_minor": 5
}
